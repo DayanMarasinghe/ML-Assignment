{
 "cells": [
  {
   "cell_type": "code",
   "execution_count": 7,
   "id": "40cc7789",
   "metadata": {},
   "outputs": [
    {
     "name": "stdout",
     "output_type": "stream",
     "text": [
      "Accuracy: 0.7997679656043131\n",
      "Precision: 0.6469165659008465\n",
      "Recall: 0.3128654970760234\n",
      "F1-score: 0.42175798186834845\n"
     ]
    }
   ],
   "source": [
    "import pandas as pd\n",
    "from sklearn.model_selection import train_test_split\n",
    "from sklearn.naive_bayes import GaussianNB\n",
    "from sklearn.metrics import accuracy_score, precision_score, recall_score, f1_score\n",
    "from sklearn.preprocessing import LabelEncoder\n",
    "\n",
    "# Load the dataset\n",
    "df = pd.read_csv('adult.csv')\n",
    "\n",
    "# Preprocess the data\n",
    "categorical_columns = ['workclass', 'education', 'marital-status', 'occupation', 'relationship', 'race', 'gender', 'native-country']\n",
    "for column in categorical_columns:\n",
    "    le = LabelEncoder()\n",
    "    df[column] = le.fit_transform(df[column])\n",
    "\n",
    "# Split the dataset into training and testing sets\n",
    "X = df.drop('income', axis=1)\n",
    "y = df['income']\n",
    "X_train, X_test, y_train, y_test = train_test_split(X, y, test_size=0.3, random_state=42)\n",
    "\n",
    "# Train a Gaussian Naive Bayes model\n",
    "gnb = GaussianNB()\n",
    "gnb.fit(X_train, y_train)\n",
    "\n",
    "# Make predictions on the testing set\n",
    "y_pred = gnb.predict(X_test)\n",
    "\n",
    "# Evaluate the model's performance\n",
    "print('Accuracy:', accuracy_score(y_test, y_pred))\n",
    "print('Precision:', precision_score(y_test, y_pred,pos_label='>50K'))\n",
    "print('Recall:', recall_score(y_test, y_pred,pos_label='>50K'))\n",
    "print('F1-score:', f1_score(y_test, y_pred,pos_label='>50K'))\n"
   ]
  },
  {
   "cell_type": "code",
   "execution_count": 12,
   "id": "bce67176",
   "metadata": {},
   "outputs": [
    {
     "name": "stdout",
     "output_type": "stream",
     "text": [
      "Accuracy: 0.7892583500706688\n",
      "Precision: 0.4879931389365352\n",
      "Recall: 0.6209530738450345\n",
      "F1-score: 0.5465023211141348\n"
     ]
    }
   ],
   "source": [
    "import pandas as pd\n",
    "from sklearn.model_selection import train_test_split\n",
    "from sklearn.naive_bayes import GaussianNB\n",
    "from sklearn.metrics import accuracy_score, precision_score, recall_score, f1_score\n",
    "from sklearn.preprocessing import LabelEncoder, OneHotEncoder, MinMaxScaler\n",
    "\n",
    "# Load the dataset\n",
    "df = pd.read_csv('adult.csv')\n",
    "\n",
    "# Drop missing values\n",
    "df = df.dropna()\n",
    "\n",
    "# Remove outliers in capital-gain column\n",
    "q1 = df['capital-gain'].quantile(0.25)\n",
    "q3 = df['capital-gain'].quantile(0.75)\n",
    "iqr = q3 - q1\n",
    "df = df[(df['capital-gain'] >= q1 - 1.5*iqr) & (df['capital-gain'] <= q3 + 1.5*iqr)]\n",
    "\n",
    "# Select relevant features\n",
    "relevant_features = ['age', 'workclass', 'education', 'marital-status', 'occupation', 'relationship', 'race', 'gender', 'capital-gain', 'capital-loss', 'hours-per-week', 'native-country', 'income']\n",
    "df = df[relevant_features]\n",
    "\n",
    "# Preprocess the data\n",
    "categorical_columns = ['workclass', 'education', 'marital-status', 'occupation', 'relationship', 'race', 'gender', 'native-country']\n",
    "for column in categorical_columns:\n",
    "    le = LabelEncoder()\n",
    "    df[column] = le.fit_transform(df[column])\n",
    "\n",
    "# Scale numerical variables using min-max scaling\n",
    "scaler = MinMaxScaler()\n",
    "numerical_columns = ['age', 'capital-gain', 'capital-loss', 'hours-per-week']\n",
    "df[numerical_columns] = scaler.fit_transform(df[numerical_columns])\n",
    "\n",
    "# Split the dataset into training and testing sets\n",
    "X = df.drop('income', axis=1)\n",
    "y = df['income']\n",
    "X_train, X_test, y_train, y_test = train_test_split(X, y, test_size=0.3, random_state=42)\n",
    "\n",
    "# Train a Gaussian Naive Bayes model\n",
    "gnb = GaussianNB()\n",
    "gnb.fit(X_train, y_train)\n",
    "\n",
    "# Make predictions on the testing set\n",
    "y_pred = gnb.predict(X_test)\n",
    "\n",
    "# Evaluate the model's performance\n",
    "print('Accuracy:', accuracy_score(y_test, y_pred))\n",
    "print('Precision:', precision_score(y_test, y_pred,pos_label='>50K'))\n",
    "print('Recall:', recall_score(y_test, y_pred,pos_label='>50K'))\n",
    "print('F1-score:', f1_score(y_test, y_pred,pos_label='>50K'))"
   ]
  },
  {
   "cell_type": "code",
   "execution_count": null,
   "id": "3dd2e3f5",
   "metadata": {},
   "outputs": [],
   "source": []
  }
 ],
 "metadata": {
  "kernelspec": {
   "display_name": "Python 3 (ipykernel)",
   "language": "python",
   "name": "python3"
  },
  "language_info": {
   "codemirror_mode": {
    "name": "ipython",
    "version": 3
   },
   "file_extension": ".py",
   "mimetype": "text/x-python",
   "name": "python",
   "nbconvert_exporter": "python",
   "pygments_lexer": "ipython3",
   "version": "3.11.1"
  }
 },
 "nbformat": 4,
 "nbformat_minor": 5
}
